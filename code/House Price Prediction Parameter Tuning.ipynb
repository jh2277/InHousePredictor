{
 "cells": [
  {
   "cell_type": "code",
   "execution_count": 1,
   "id": "7e69cbaa",
   "metadata": {},
   "outputs": [],
   "source": [
    "import numpy as np\n",
    "import pandas as pd\n",
    "import pickle\n",
    "from sklearn.model_selection import train_test_split\n",
    "from sklearn.ensemble import RandomForestRegressor\n",
    "from sklearn.metrics import mean_absolute_error, r2_score, mean_absolute_percentage_error, mean_squared_error, make_scorer\n",
    "from sklearn.model_selection import RandomizedSearchCV\n",
    "from sklearn.preprocessing import OneHotEncoder, OrdinalEncoder"
   ]
  },
  {
   "cell_type": "code",
   "execution_count": 2,
   "id": "10829686",
   "metadata": {},
   "outputs": [],
   "source": [
    "df = pd.read_csv(\"../data/Rumah.comdataset_v5_modified.csv\")"
   ]
  },
  {
   "cell_type": "code",
   "execution_count": 3,
   "id": "ca5c0312",
   "metadata": {},
   "outputs": [],
   "source": [
    "y = df.Price\n",
    "X = df.drop(['Price'], axis=1)"
   ]
  },
  {
   "cell_type": "code",
   "execution_count": 4,
   "id": "c8c6049d",
   "metadata": {},
   "outputs": [],
   "source": [
    "X_train_full, X_valid_full, y_train, y_valid = train_test_split(X, y, \n",
    "                                                            train_size=0.8, test_size=0.2)"
   ]
  },
  {
   "cell_type": "code",
   "execution_count": 5,
   "id": "d8455e64",
   "metadata": {},
   "outputs": [],
   "source": [
    "low_cardinality_cols = ['Jakarta Division']\n",
    "high_cardinality_cols = ['Street Address', 'Certificate']"
   ]
  },
  {
   "cell_type": "code",
   "execution_count": 6,
   "id": "eca2feab",
   "metadata": {},
   "outputs": [],
   "source": [
    "numerical_cols = [cname for cname in X_train_full.columns if X_train_full[cname].dtype in ['int64', 'float64']]"
   ]
  },
  {
   "cell_type": "code",
   "execution_count": 7,
   "id": "fdcdd3b6",
   "metadata": {},
   "outputs": [],
   "source": [
    "my_cols = low_cardinality_cols + high_cardinality_cols+ numerical_cols\n",
    "X_train = X_train_full[my_cols].copy()\n",
    "X_valid = X_valid_full[my_cols].copy()"
   ]
  },
  {
   "cell_type": "code",
   "execution_count": 8,
   "id": "6c132d74",
   "metadata": {},
   "outputs": [
    {
     "name": "stdout",
     "output_type": "stream",
     "text": [
      "Categorical variables:\n",
      "['Jakarta Division', 'Street Address', 'Certificate']\n"
     ]
    }
   ],
   "source": [
    "# Get list of categorical variables\n",
    "s = (X_train.dtypes == 'object')\n",
    "object_cols = list(s[s].index)\n",
    "\n",
    "print(\"Categorical variables:\")\n",
    "print(object_cols)"
   ]
  },
  {
   "cell_type": "code",
   "execution_count": 14,
   "id": "26356fc8",
   "metadata": {},
   "outputs": [],
   "source": [
    "# Function for comparing different approaches\n",
    "def score_dataset(X_train, X_valid, y_train, y_valid, i):\n",
    "    model = RandomForestRegressor(n_estimators=2360, min_samples_split=2, \n",
    "                                  min_samples_leaf=2, max_features=1.0, \n",
    "                                  max_depth=90, bootstrap=True, random_state=i)\n",
    "    model.fit(X_train, y_train)\n",
    "    preds = model.predict(X_valid)\n",
    "    mae = mean_absolute_error(y_valid, preds)\n",
    "    mape = mean_absolute_percentage_error(y_valid, preds)\n",
    "    return mape\n"
   ]
  },
  {
   "cell_type": "code",
   "execution_count": 10,
   "id": "e53d5ac5",
   "metadata": {},
   "outputs": [],
   "source": [
    "# Function to optimize hyperparameters for Random Forest\n",
    "#Return the parameters that give the best MAE\n",
    "def optimize_rf(X_train, X_valid, y_train, y_valid):\n",
    "    model = RandomForestRegressor(random_state=0)\n",
    "    n_estimators = [int(x) for x in np.linspace(start = 50, stop = 2360, num = 10)]\n",
    "    max_features = [1.0, 'sqrt']\n",
    "    max_depth = [int(x) for x in np.linspace(10, 110, num = 11)]\n",
    "    max_depth.append(None)\n",
    "    min_samples_split = [2, 5, 10]\n",
    "    min_samples_leaf = [1, 2, 4]\n",
    "    bootstrap = [True, False]\n",
    "    random_grid = {'n_estimators': n_estimators,\n",
    "                     'max_features': max_features,\n",
    "                        'max_depth': max_depth,\n",
    "                        'min_samples_split': min_samples_split,\n",
    "                        'min_samples_leaf': min_samples_leaf,\n",
    "                        'bootstrap': bootstrap}\n",
    "    #The target metric is MAE\n",
    "    scorer = make_scorer(mean_absolute_percentage_error, greater_is_better=False)\n",
    "    rf_random = RandomizedSearchCV(estimator = model, param_distributions = random_grid, n_iter = 100, cv = 3, verbose=2, random_state=42, n_jobs = -1, scoring=scorer)\n",
    "    rf_random.fit(X_train, y_train)\n",
    "    preds = rf_random.predict(X_valid)\n",
    "    mape = mean_absolute_percentage_error(y_valid, preds)\n",
    "    return mape, rf_random.best_params_"
   ]
  },
  {
   "cell_type": "code",
   "execution_count": 11,
   "id": "2dc4ed99",
   "metadata": {},
   "outputs": [],
   "source": [
    "# Make copy to avoid changing original data \n",
    "mix_X_train = X_train.copy()\n",
    "mix_X_valid = X_valid.copy()\n",
    "\n",
    "# Apply ordinal encoder to each column with categorical data\n",
    "ordinal_encoder = OrdinalEncoder(handle_unknown='use_encoded_value', unknown_value=-1)\n",
    "mix_X_train[high_cardinality_cols] = ordinal_encoder.fit_transform(X_train[high_cardinality_cols])\n",
    "mix_X_valid[high_cardinality_cols] = ordinal_encoder.transform(X_valid[high_cardinality_cols])\n",
    "\n",
    "# Apply one-hot encoder to each column with categorical data\n",
    "OH_encoder = OneHotEncoder(handle_unknown='ignore', sparse=False)\n",
    "OH_cols_train = pd.DataFrame(OH_encoder.fit_transform(mix_X_train[low_cardinality_cols]))\n",
    "OH_cols_valid = pd.DataFrame(OH_encoder.transform(mix_X_valid[low_cardinality_cols]))\n",
    "\n",
    "#To remove warnings\n",
    "OH_cols_train.columns = OH_cols_train.columns.astype('str')\n",
    "OH_cols_valid.columns = OH_cols_valid.columns.astype('str')\n",
    "\n",
    "# One-hot encoding removed index; put it back\n",
    "OH_cols_train.index = X_train.index\n",
    "OH_cols_valid.index = X_valid.index\n",
    "\n",
    "# Remove categorical columns (will replace with one-hot encoding)\n",
    "num_X_train = mix_X_train.drop(low_cardinality_cols, axis=1)\n",
    "num_X_valid = mix_X_valid.drop(low_cardinality_cols, axis=1)\n",
    "\n",
    "# Add one-hot encoded columns to numerical features\n",
    "OH_X_train = pd.concat([num_X_train, OH_cols_train], axis=1)\n",
    "OH_X_valid = pd.concat([num_X_valid, OH_cols_valid], axis=1)"
   ]
  },
  {
   "cell_type": "code",
   "execution_count": null,
   "id": "09e33f96",
   "metadata": {},
   "outputs": [],
   "source": [
    "print(score_dataset(OH_X_train, OH_X_valid, y_train, y_valid, 0))"
   ]
  },
  {
   "cell_type": "code",
   "execution_count": 32,
   "id": "a7ad8404",
   "metadata": {
    "scrolled": true
   },
   "outputs": [],
   "source": [
    "#Running the AI model on 50 tries with different random_states to make sure that the \n",
    "#result is reliable (fulfills the target of MAPE < 20%)\n",
    "MAPE_results = []\n",
    "for i in range(50):\n",
    "    MAPE = score_dataset(OH_X_train, OH_X_valid, y_train, y_valid, i)\n",
    "    MAPE_results.append(MAPE)\n",
    "    "
   ]
  },
  {
   "cell_type": "code",
   "execution_count": 33,
   "id": "9f26f977",
   "metadata": {},
   "outputs": [
    {
     "name": "stdout",
     "output_type": "stream",
     "text": [
      "0.18645043471759842\n"
     ]
    }
   ],
   "source": [
    "#Printing the average of those 50 tries\n",
    "print(sum(MAPE_results)/len(MAPE_results))"
   ]
  },
  {
   "cell_type": "code",
   "execution_count": 34,
   "id": "575661a7",
   "metadata": {},
   "outputs": [
    {
     "data": {
      "text/plain": [
       "RandomForestRegressor(max_depth=90, max_features=1.0, min_samples_leaf=2,\n",
       "                      n_estimators=2360, random_state=49)"
      ]
     },
     "execution_count": 34,
     "metadata": {},
     "output_type": "execute_result"
    }
   ],
   "source": [
    "model = RandomForestRegressor(n_estimators=2360, min_samples_split=2, \n",
    "                                  min_samples_leaf=2, max_features=1.0, \n",
    "                                  max_depth=90, bootstrap=True, random_state=i)\n",
    "model.fit(OH_X_train, y_train)"
   ]
  },
  {
   "cell_type": "code",
   "execution_count": 35,
   "id": "d851c612",
   "metadata": {},
   "outputs": [],
   "source": [
    "filename = \"/Users/an-uigeun/Desktop/무제 폴더/random_forest.pickle\"\n",
    "pickle.dump(model, open(filename, \"wb\"))"
   ]
  },
  {
   "cell_type": "code",
   "execution_count": null,
   "id": "09f2da9b",
   "metadata": {},
   "outputs": [],
   "source": []
  }
 ],
 "metadata": {
  "kernelspec": {
   "display_name": "Python 3 (ipykernel)",
   "language": "python",
   "name": "python3"
  },
  "language_info": {
   "codemirror_mode": {
    "name": "ipython",
    "version": 3
   },
   "file_extension": ".py",
   "mimetype": "text/x-python",
   "name": "python",
   "nbconvert_exporter": "python",
   "pygments_lexer": "ipython3",
   "version": "3.9.13"
  }
 },
 "nbformat": 4,
 "nbformat_minor": 5
}

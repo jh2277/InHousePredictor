{
 "cells": [
  {
   "cell_type": "code",
   "execution_count": 2,
   "id": "7e69cbaa",
   "metadata": {},
   "outputs": [],
   "source": [
    "import numpy as np\n",
    "import pandas as pd\n",
    "from sklearn.model_selection import train_test_split\n",
    "from sklearn.ensemble import RandomForestRegressor\n",
    "from sklearn.metrics import mean_absolute_error, r2_score, mean_absolute_percentage_error, mean_squared_error, make_scorer\n",
    "from sklearn.model_selection import RandomizedSearchCV\n",
    "from sklearn.preprocessing import OneHotEncoder\n",
    "import pickle"
   ]
  },
  {
   "cell_type": "code",
   "execution_count": 13,
   "id": "10829686",
   "metadata": {},
   "outputs": [],
   "source": [
    "df = pd.read_csv(\"../data/test_case.csv\")\n",
    "df = df.iloc[:, 1:]"
   ]
  },
  {
   "cell_type": "code",
   "execution_count": 14,
   "id": "ca5c0312",
   "metadata": {},
   "outputs": [],
   "source": [
    "y = df.Price\n",
    "X = df.drop(['Price'], axis=1)"
   ]
  },
  {
   "cell_type": "code",
   "execution_count": 4,
   "id": "fb1af926",
   "metadata": {},
   "outputs": [
    {
     "data": {
      "text/html": [
       "<div>\n",
       "<style scoped>\n",
       "    .dataframe tbody tr th:only-of-type {\n",
       "        vertical-align: middle;\n",
       "    }\n",
       "\n",
       "    .dataframe tbody tr th {\n",
       "        vertical-align: top;\n",
       "    }\n",
       "\n",
       "    .dataframe thead th {\n",
       "        text-align: right;\n",
       "    }\n",
       "</style>\n",
       "<table border=\"1\" class=\"dataframe\">\n",
       "  <thead>\n",
       "    <tr style=\"text-align: right;\">\n",
       "      <th></th>\n",
       "      <th>Street Address</th>\n",
       "      <th>Bed</th>\n",
       "      <th>Bath</th>\n",
       "      <th>Listing Area</th>\n",
       "      <th>Certificate</th>\n",
       "      <th>Jakarta Division</th>\n",
       "    </tr>\n",
       "  </thead>\n",
       "  <tbody>\n",
       "    <tr>\n",
       "      <th>0</th>\n",
       "      <td>Cakung</td>\n",
       "      <td>5</td>\n",
       "      <td>4</td>\n",
       "      <td>116</td>\n",
       "      <td>PPJB - Perjanjian Pengikatan Jual Beli</td>\n",
       "      <td>EAST</td>\n",
       "    </tr>\n",
       "    <tr>\n",
       "      <th>1</th>\n",
       "      <td>Permata Buana</td>\n",
       "      <td>4</td>\n",
       "      <td>3</td>\n",
       "      <td>260</td>\n",
       "      <td>SHM - Sertifikat Hak Milik</td>\n",
       "      <td>WEST</td>\n",
       "    </tr>\n",
       "    <tr>\n",
       "      <th>2</th>\n",
       "      <td>Taman Mini</td>\n",
       "      <td>3</td>\n",
       "      <td>2</td>\n",
       "      <td>90</td>\n",
       "      <td>SHM - Sertifikat Hak Milik</td>\n",
       "      <td>EAST</td>\n",
       "    </tr>\n",
       "    <tr>\n",
       "      <th>3</th>\n",
       "      <td>Cipinang</td>\n",
       "      <td>2</td>\n",
       "      <td>2</td>\n",
       "      <td>70</td>\n",
       "      <td>SHM - Sertifikat Hak Milik</td>\n",
       "      <td>EAST</td>\n",
       "    </tr>\n",
       "    <tr>\n",
       "      <th>4</th>\n",
       "      <td>Pondok Gede</td>\n",
       "      <td>2</td>\n",
       "      <td>2</td>\n",
       "      <td>53</td>\n",
       "      <td>SHM - Sertifikat Hak Milik</td>\n",
       "      <td>EAST</td>\n",
       "    </tr>\n",
       "  </tbody>\n",
       "</table>\n",
       "</div>"
      ],
      "text/plain": [
       "  Street Address  Bed  Bath  Listing Area  \\\n",
       "0         Cakung    5     4           116   \n",
       "1  Permata Buana    4     3           260   \n",
       "2     Taman Mini    3     2            90   \n",
       "3       Cipinang    2     2            70   \n",
       "4    Pondok Gede    2     2            53   \n",
       "\n",
       "                              Certificate Jakarta Division  \n",
       "0  PPJB - Perjanjian Pengikatan Jual Beli             EAST  \n",
       "1              SHM - Sertifikat Hak Milik             WEST  \n",
       "2              SHM - Sertifikat Hak Milik             EAST  \n",
       "3              SHM - Sertifikat Hak Milik             EAST  \n",
       "4              SHM - Sertifikat Hak Milik             EAST  "
      ]
     },
     "execution_count": 4,
     "metadata": {},
     "output_type": "execute_result"
    }
   ],
   "source": [
    "X.head()"
   ]
  },
  {
   "cell_type": "code",
   "execution_count": 7,
   "id": "15516e14",
   "metadata": {},
   "outputs": [
    {
     "data": {
      "text/plain": [
       "Street Address                                      Cakung\n",
       "Bed                                                      5\n",
       "Bath                                                     4\n",
       "Listing Area                                           116\n",
       "Certificate         PPJB - Perjanjian Pengikatan Jual Beli\n",
       "Jakarta Division                                      EAST\n",
       "Name: 0, dtype: object"
      ]
     },
     "execution_count": 7,
     "metadata": {},
     "output_type": "execute_result"
    }
   ],
   "source": [
    "X.loc[0]"
   ]
  },
  {
   "cell_type": "code",
   "execution_count": 15,
   "id": "8f1d53a5",
   "metadata": {},
   "outputs": [
    {
     "data": {
      "text/plain": [
       "2700000000.0"
      ]
     },
     "execution_count": 15,
     "metadata": {},
     "output_type": "execute_result"
    }
   ],
   "source": [
    "y.loc[0]"
   ]
  },
  {
   "cell_type": "code",
   "execution_count": null,
   "id": "0b283cfd",
   "metadata": {},
   "outputs": [],
   "source": [
    "df['Listing Area'] = df['Listing Area'].str.replace(' m²', '')\n",
    "df = df.astype({'Listing Area':'int64'})"
   ]
  },
  {
   "cell_type": "code",
   "execution_count": 3,
   "id": "32c1c76e",
   "metadata": {},
   "outputs": [],
   "source": [
    "student_card = pd.DataFrame({'ID':[20190103, 20190222, 20190531],\n",
    "                             'name':['Kim', 'Lee', 'Jeong'],\n",
    "                             'class':['H', 'W', 'S']})"
   ]
  },
  {
   "cell_type": "code",
   "execution_count": 4,
   "id": "717406cd",
   "metadata": {},
   "outputs": [
    {
     "name": "stdout",
     "output_type": "stream",
     "text": [
      "Cakung\n",
      "5\n",
      "4\n",
      "116\n",
      "PPJB - Perjanjian Pengikatan Jual Beli\n",
      "EAST\n"
     ]
    }
   ],
   "source": [
    "street_address = input()\n",
    "bed = int(input())\n",
    "bath = int(input())\n",
    "listing_area = int(input())\n",
    "certificate = input()\n",
    "jakarta_division = input()\n"
   ]
  },
  {
   "cell_type": "code",
   "execution_count": 7,
   "id": "0d2cbd77",
   "metadata": {},
   "outputs": [
    {
     "name": "stdout",
     "output_type": "stream",
     "text": [
      "(1, 6)\n"
     ]
    }
   ],
   "source": [
    "one_df = pd.DataFrame({'Street Address':[street_address],\n",
    "                        'Bed':[bed],\n",
    "                        'Bath':[bath],\n",
    "                        'Listing Area':[listing_area],\n",
    "                        'Certificate':[certificate],\n",
    "                        'Jakarta Division':[jakarta_division]})\n",
    "print(one_df.shape)"
   ]
  },
  {
   "cell_type": "code",
   "execution_count": 30,
   "id": "d8455e64",
   "metadata": {},
   "outputs": [],
   "source": [
    "low_cardinality_cols = [cname for cname in X.columns if X[cname].nunique() < 10 and \n",
    "                        X[cname].dtype == \"object\"]\n",
    "high_cardinality_cols = [cname for cname in X.columns if X[cname].nunique() >= 10 and \n",
    "                        X[cname].dtype == \"object\"]"
   ]
  },
  {
   "cell_type": "code",
   "execution_count": 31,
   "id": "eca2feab",
   "metadata": {},
   "outputs": [],
   "source": [
    "numerical_cols = [cname for cname in X.columns if X[cname].dtype in ['int64', 'float64']]"
   ]
  },
  {
   "cell_type": "code",
   "execution_count": 32,
   "id": "fdcdd3b6",
   "metadata": {},
   "outputs": [],
   "source": [
    "my_cols = low_cardinality_cols + high_cardinality_cols+ numerical_cols\n",
    "X = X[my_cols].copy()"
   ]
  },
  {
   "cell_type": "code",
   "execution_count": 8,
   "id": "6c132d74",
   "metadata": {},
   "outputs": [
    {
     "name": "stdout",
     "output_type": "stream",
     "text": [
      "Categorical variables:\n",
      "['Street Address', 'Certificate', 'Jakarta Division']\n"
     ]
    }
   ],
   "source": [
    "# Get list of categorical variables\n",
    "s = (one_df.dtypes == 'object')\n",
    "object_cols = list(s[s].index)\n",
    "\n",
    "print(\"Categorical variables:\")\n",
    "print(object_cols)"
   ]
  },
  {
   "cell_type": "code",
   "execution_count": 9,
   "id": "531873f2",
   "metadata": {},
   "outputs": [
    {
     "name": "stderr",
     "output_type": "stream",
     "text": [
      "/Users/an-uigeun/opt/anaconda3/lib/python3.9/site-packages/sklearn/base.py:493: FutureWarning: The feature names should match those that were passed during fit. Starting version 1.2, an error will be raised.\n",
      "Feature names must be in the same order as they were in fit.\n",
      "\n",
      "  warnings.warn(message, FutureWarning)\n"
     ]
    }
   ],
   "source": [
    "filename1 = \"../data/ordinal_encoder.pickle\"\n",
    "\n",
    "# load model\n",
    "ordinal_encoder = pickle.load(open(filename1, \"rb\"))\n",
    "one_df[object_cols] = ordinal_encoder.transform(one_df[object_cols])"
   ]
  },
  {
   "cell_type": "code",
   "execution_count": 11,
   "id": "de6876ce",
   "metadata": {},
   "outputs": [
    {
     "name": "stdout",
     "output_type": "stream",
     "text": [
      "[2.053743e+09]\n"
     ]
    },
    {
     "name": "stderr",
     "output_type": "stream",
     "text": [
      "/Users/an-uigeun/opt/anaconda3/lib/python3.9/site-packages/sklearn/base.py:493: FutureWarning: The feature names should match those that were passed during fit. Starting version 1.2, an error will be raised.\n",
      "Feature names must be in the same order as they were in fit.\n",
      "\n",
      "  warnings.warn(message, FutureWarning)\n"
     ]
    }
   ],
   "source": [
    "\n",
    "filename = \"../data/random_forest.pickle\"\n",
    "\n",
    "# load model\n",
    "loaded_model = pickle.load(open(filename, \"rb\"))\n",
    "\n",
    "# you can use loaded model to compute predictions\n",
    "preds = loaded_model.predict(one_df)\n",
    "\n",
    "# mape = mean_absolute_percentage_error(y, preds)\n",
    "print(preds)"
   ]
  },
  {
   "cell_type": "code",
   "execution_count": null,
   "id": "fd2faf5c",
   "metadata": {},
   "outputs": [],
   "source": []
  }
 ],
 "metadata": {
  "kernelspec": {
   "display_name": "Python 3 (ipykernel)",
   "language": "python",
   "name": "python3"
  },
  "language_info": {
   "codemirror_mode": {
    "name": "ipython",
    "version": 3
   },
   "file_extension": ".py",
   "mimetype": "text/x-python",
   "name": "python",
   "nbconvert_exporter": "python",
   "pygments_lexer": "ipython3",
   "version": "3.9.13"
  }
 },
 "nbformat": 4,
 "nbformat_minor": 5
}

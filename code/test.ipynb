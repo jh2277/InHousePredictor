{
 "cells": [
  {
   "cell_type": "code",
   "execution_count": 26,
   "id": "7e69cbaa",
   "metadata": {},
   "outputs": [],
   "source": [
    "import numpy as np\n",
    "import pandas as pd\n",
    "from sklearn.model_selection import train_test_split\n",
    "from sklearn.ensemble import RandomForestRegressor\n",
    "from sklearn.metrics import mean_absolute_error, r2_score, mean_absolute_percentage_error, mean_squared_error, make_scorer\n",
    "from sklearn.model_selection import RandomizedSearchCV\n",
    "from sklearn.preprocessing import OneHotEncoder\n",
    "import pickle"
   ]
  },
  {
   "cell_type": "code",
   "execution_count": 27,
   "id": "10829686",
   "metadata": {},
   "outputs": [],
   "source": [
    "df = pd.read_csv(\"../data/test_case.csv\")\n",
    "df = df.iloc[:, 1:]"
   ]
  },
  {
   "cell_type": "code",
   "execution_count": 28,
   "id": "ca5c0312",
   "metadata": {},
   "outputs": [],
   "source": [
    "y = df.Price\n",
    "X = df.drop(['Price'], axis=1)"
   ]
  },
  {
   "cell_type": "code",
   "execution_count": 29,
   "id": "22f5001b",
   "metadata": {},
   "outputs": [
    {
     "name": "stdout",
     "output_type": "stream",
     "text": [
      "(2582, 6)\n"
     ]
    }
   ],
   "source": [
    "print(X.shape)"
   ]
  },
  {
   "cell_type": "code",
   "execution_count": 30,
   "id": "d8455e64",
   "metadata": {},
   "outputs": [],
   "source": [
    "low_cardinality_cols = [cname for cname in X.columns if X[cname].nunique() < 10 and \n",
    "                        X[cname].dtype == \"object\"]\n",
    "high_cardinality_cols = [cname for cname in X.columns if X[cname].nunique() >= 10 and \n",
    "                        X[cname].dtype == \"object\"]"
   ]
  },
  {
   "cell_type": "code",
   "execution_count": 31,
   "id": "eca2feab",
   "metadata": {},
   "outputs": [],
   "source": [
    "numerical_cols = [cname for cname in X.columns if X[cname].dtype in ['int64', 'float64']]"
   ]
  },
  {
   "cell_type": "code",
   "execution_count": 32,
   "id": "fdcdd3b6",
   "metadata": {},
   "outputs": [],
   "source": [
    "my_cols = low_cardinality_cols + high_cardinality_cols+ numerical_cols\n",
    "X = X[my_cols].copy()"
   ]
  },
  {
   "cell_type": "code",
   "execution_count": 33,
   "id": "6c132d74",
   "metadata": {},
   "outputs": [
    {
     "name": "stdout",
     "output_type": "stream",
     "text": [
      "Categorical variables:\n",
      "['Jakarta Division', 'Street Address', 'Certificate']\n"
     ]
    }
   ],
   "source": [
    "# Get list of categorical variables\n",
    "s = (X.dtypes == 'object')\n",
    "object_cols = list(s[s].index)\n",
    "\n",
    "print(\"Categorical variables:\")\n",
    "print(object_cols)"
   ]
  },
  {
   "cell_type": "code",
   "execution_count": 34,
   "id": "531873f2",
   "metadata": {},
   "outputs": [],
   "source": [
    "filename1 = \"../data/ordinal_encoder.pickle\"\n",
    "\n",
    "# load model\n",
    "ordinal_encoder = pickle.load(open(filename1, \"rb\"))\n",
    "X[object_cols] = ordinal_encoder.transform(X[object_cols])"
   ]
  },
  {
   "cell_type": "code",
   "execution_count": 35,
   "id": "de6876ce",
   "metadata": {},
   "outputs": [
    {
     "name": "stdout",
     "output_type": "stream",
     "text": [
      "0.32118974156460756\n"
     ]
    }
   ],
   "source": [
    "\n",
    "filename = \"../data/random_forest.pickle\"\n",
    "\n",
    "# load model\n",
    "loaded_model = pickle.load(open(filename, \"rb\"))\n",
    "\n",
    "# you can use loaded model to compute predictions\n",
    "preds = loaded_model.predict(X)\n",
    "\n",
    "mape = mean_absolute_percentage_error(y, preds)\n",
    "print(mape)"
   ]
  },
  {
   "cell_type": "code",
   "execution_count": null,
   "id": "fd2faf5c",
   "metadata": {},
   "outputs": [],
   "source": []
  }
 ],
 "metadata": {
  "kernelspec": {
   "display_name": "Python 3 (ipykernel)",
   "language": "python",
   "name": "python3"
  },
  "language_info": {
   "codemirror_mode": {
    "name": "ipython",
    "version": 3
   },
   "file_extension": ".py",
   "mimetype": "text/x-python",
   "name": "python",
   "nbconvert_exporter": "python",
   "pygments_lexer": "ipython3",
   "version": "3.9.13"
  }
 },
 "nbformat": 4,
 "nbformat_minor": 5
}

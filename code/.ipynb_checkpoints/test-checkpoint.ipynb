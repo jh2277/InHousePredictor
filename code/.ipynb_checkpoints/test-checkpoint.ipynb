{
 "cells": [
  {
   "cell_type": "code",
   "execution_count": 13,
   "id": "7e69cbaa",
   "metadata": {},
   "outputs": [],
   "source": [
    "import numpy as np\n",
    "import pandas as pd\n",
    "from sklearn.model_selection import train_test_split\n",
    "from sklearn.ensemble import RandomForestRegressor\n",
    "from sklearn.metrics import mean_absolute_error, r2_score, mean_absolute_percentage_error, mean_squared_error, make_scorer\n",
    "from sklearn.model_selection import RandomizedSearchCV\n",
    "from sklearn.preprocessing import OneHotEncoder"
   ]
  },
  {
   "cell_type": "code",
   "execution_count": 16,
   "id": "10829686",
   "metadata": {},
   "outputs": [],
   "source": [
    "df = pd.read_csv(\"../data/Rumah.comdataset_v4.csv\")\n",
    "df = df.drop(columns=['Property Link', 'ID'])\n",
    "df['Listing Area'] = df['Listing Area'].str.replace(' m²', '')\n",
    "df = df.astype({'Listing Area':'int64'})\n",
    "#Print the shape of the dataset before removing outliers"
   ]
  },
  {
   "cell_type": "code",
   "execution_count": 17,
   "id": "273ac6e5",
   "metadata": {},
   "outputs": [
    {
     "name": "stdout",
     "output_type": "stream",
     "text": [
      "(12907, 7)\n"
     ]
    }
   ],
   "source": [
    "#Before we start, perform outlier detection and removal (removing all rows with outlier values) for numerical columns\n",
    "outliers = pd.DataFrame()\n",
    "\n",
    "\n",
    "numerical_cols = [cname for cname in df.columns if df[cname].dtype in ['int64', 'float64']]\n",
    "#Keep removing outliers until there are no more outliers (run the loop 5 times)\n",
    "for i in range(10):\n",
    "    #Check if there are any outliers\n",
    "    for col in numerical_cols:\n",
    "        # Perform outlier detection using Interquartile Range\n",
    "        Q1 = df[col].quantile(0.25)\n",
    "        Q3 = df[col].quantile(0.75)\n",
    "        IQR = Q3 - Q1\n",
    "#         # Before removing outliers, put the outliers in a separate dataframe\n",
    "#         outliers = outliers.append(df[(df[col] < Q1 - 1.5*IQR) | (df[col] > Q3 + 1.5*IQR)])\n",
    "        # Remove outliers\n",
    "        df = df[(df[col] >= Q1 - 1.5*IQR) & (df[col] <= Q3 + 1.5*IQR)]\n",
    "\n",
    "\n",
    "\n",
    "#Print the shape of the dataset after outlier removal\n",
    "index1 = df[df.Price <= 100000000].index\n",
    "df = df.drop(index1)\n",
    "print(df.shape)"
   ]
  },
  {
   "cell_type": "code",
   "execution_count": 18,
   "id": "ca5c0312",
   "metadata": {},
   "outputs": [],
   "source": [
    "y = df.Price\n",
    "X = df.drop(['Price'], axis=1)"
   ]
  },
  {
   "cell_type": "code",
   "execution_count": 19,
   "id": "c8c6049d",
   "metadata": {},
   "outputs": [],
   "source": [
    "X_train_full, X_valid_full, y_train, y_valid = train_test_split(X, y, \n",
    "                                                            train_size=0.8, test_size=0.2)"
   ]
  },
  {
   "cell_type": "code",
   "execution_count": 20,
   "id": "977bf19e",
   "metadata": {
    "scrolled": true
   },
   "outputs": [
    {
     "data": {
      "text/html": [
       "<div>\n",
       "<style scoped>\n",
       "    .dataframe tbody tr th:only-of-type {\n",
       "        vertical-align: middle;\n",
       "    }\n",
       "\n",
       "    .dataframe tbody tr th {\n",
       "        vertical-align: top;\n",
       "    }\n",
       "\n",
       "    .dataframe thead th {\n",
       "        text-align: right;\n",
       "    }\n",
       "</style>\n",
       "<table border=\"1\" class=\"dataframe\">\n",
       "  <thead>\n",
       "    <tr style=\"text-align: right;\">\n",
       "      <th></th>\n",
       "      <th>Street Address</th>\n",
       "      <th>Bed</th>\n",
       "      <th>Bath</th>\n",
       "      <th>Listing Area</th>\n",
       "      <th>Certificate</th>\n",
       "      <th>Jakarta Division</th>\n",
       "      <th>Price</th>\n",
       "    </tr>\n",
       "  </thead>\n",
       "  <tbody>\n",
       "    <tr>\n",
       "      <th>11411</th>\n",
       "      <td>Cengkareng</td>\n",
       "      <td>3</td>\n",
       "      <td>3</td>\n",
       "      <td>120</td>\n",
       "      <td>SHM - Sertifikat Hak Milik</td>\n",
       "      <td>WEST</td>\n",
       "      <td>2.380000e+09</td>\n",
       "    </tr>\n",
       "    <tr>\n",
       "      <th>15224</th>\n",
       "      <td>Cilincing</td>\n",
       "      <td>3</td>\n",
       "      <td>2</td>\n",
       "      <td>150</td>\n",
       "      <td>SHM - Sertifikat Hak Milik</td>\n",
       "      <td>NORTH</td>\n",
       "      <td>1.800000e+09</td>\n",
       "    </tr>\n",
       "    <tr>\n",
       "      <th>11163</th>\n",
       "      <td>Kembangan</td>\n",
       "      <td>4</td>\n",
       "      <td>3</td>\n",
       "      <td>210</td>\n",
       "      <td>SHM - Sertifikat Hak Milik</td>\n",
       "      <td>WEST</td>\n",
       "      <td>2.200000e+09</td>\n",
       "    </tr>\n",
       "    <tr>\n",
       "      <th>22661</th>\n",
       "      <td>Kelapa Gading</td>\n",
       "      <td>4</td>\n",
       "      <td>2</td>\n",
       "      <td>135</td>\n",
       "      <td>SHM - Sertifikat Hak Milik</td>\n",
       "      <td>NORTH</td>\n",
       "      <td>3.000000e+09</td>\n",
       "    </tr>\n",
       "    <tr>\n",
       "      <th>1737</th>\n",
       "      <td>Kemayoran</td>\n",
       "      <td>2</td>\n",
       "      <td>2</td>\n",
       "      <td>36</td>\n",
       "      <td>SHM - Sertifikat Hak Milik</td>\n",
       "      <td>CENTRAL</td>\n",
       "      <td>4.056400e+08</td>\n",
       "    </tr>\n",
       "    <tr>\n",
       "      <th>...</th>\n",
       "      <td>...</td>\n",
       "      <td>...</td>\n",
       "      <td>...</td>\n",
       "      <td>...</td>\n",
       "      <td>...</td>\n",
       "      <td>...</td>\n",
       "      <td>...</td>\n",
       "    </tr>\n",
       "    <tr>\n",
       "      <th>8551</th>\n",
       "      <td>Cilincing</td>\n",
       "      <td>3</td>\n",
       "      <td>2</td>\n",
       "      <td>105</td>\n",
       "      <td>SHM - Sertifikat Hak Milik</td>\n",
       "      <td>NORTH</td>\n",
       "      <td>1.500000e+09</td>\n",
       "    </tr>\n",
       "    <tr>\n",
       "      <th>9053</th>\n",
       "      <td>Kelapa Gading</td>\n",
       "      <td>4</td>\n",
       "      <td>2</td>\n",
       "      <td>132</td>\n",
       "      <td>SHM - Sertifikat Hak Milik</td>\n",
       "      <td>NORTH</td>\n",
       "      <td>3.650000e+09</td>\n",
       "    </tr>\n",
       "    <tr>\n",
       "      <th>8291</th>\n",
       "      <td>Pantai Indah Kapuk</td>\n",
       "      <td>3</td>\n",
       "      <td>3</td>\n",
       "      <td>240</td>\n",
       "      <td>PPJB - Perjanjian Pengikatan Jual Beli</td>\n",
       "      <td>NORTH</td>\n",
       "      <td>4.500000e+09</td>\n",
       "    </tr>\n",
       "    <tr>\n",
       "      <th>8058</th>\n",
       "      <td>Pluit</td>\n",
       "      <td>3</td>\n",
       "      <td>3</td>\n",
       "      <td>200</td>\n",
       "      <td>SHM - Sertifikat Hak Milik</td>\n",
       "      <td>NORTH</td>\n",
       "      <td>4.000000e+09</td>\n",
       "    </tr>\n",
       "    <tr>\n",
       "      <th>2882</th>\n",
       "      <td>Cengkareng</td>\n",
       "      <td>3</td>\n",
       "      <td>2</td>\n",
       "      <td>72</td>\n",
       "      <td>SHM - Sertifikat Hak Milik</td>\n",
       "      <td>WEST</td>\n",
       "      <td>8.535000e+08</td>\n",
       "    </tr>\n",
       "  </tbody>\n",
       "</table>\n",
       "<p>2582 rows × 7 columns</p>\n",
       "</div>"
      ],
      "text/plain": [
       "           Street Address  Bed  Bath  Listing Area  \\\n",
       "11411          Cengkareng    3     3           120   \n",
       "15224           Cilincing    3     2           150   \n",
       "11163           Kembangan    4     3           210   \n",
       "22661       Kelapa Gading    4     2           135   \n",
       "1737            Kemayoran    2     2            36   \n",
       "...                   ...  ...   ...           ...   \n",
       "8551            Cilincing    3     2           105   \n",
       "9053        Kelapa Gading    4     2           132   \n",
       "8291   Pantai Indah Kapuk    3     3           240   \n",
       "8058                Pluit    3     3           200   \n",
       "2882           Cengkareng    3     2            72   \n",
       "\n",
       "                                  Certificate Jakarta Division         Price  \n",
       "11411              SHM - Sertifikat Hak Milik             WEST  2.380000e+09  \n",
       "15224              SHM - Sertifikat Hak Milik            NORTH  1.800000e+09  \n",
       "11163              SHM - Sertifikat Hak Milik             WEST  2.200000e+09  \n",
       "22661              SHM - Sertifikat Hak Milik            NORTH  3.000000e+09  \n",
       "1737               SHM - Sertifikat Hak Milik          CENTRAL  4.056400e+08  \n",
       "...                                       ...              ...           ...  \n",
       "8551               SHM - Sertifikat Hak Milik            NORTH  1.500000e+09  \n",
       "9053               SHM - Sertifikat Hak Milik            NORTH  3.650000e+09  \n",
       "8291   PPJB - Perjanjian Pengikatan Jual Beli            NORTH  4.500000e+09  \n",
       "8058               SHM - Sertifikat Hak Milik            NORTH  4.000000e+09  \n",
       "2882               SHM - Sertifikat Hak Milik             WEST  8.535000e+08  \n",
       "\n",
       "[2582 rows x 7 columns]"
      ]
     },
     "execution_count": 20,
     "metadata": {},
     "output_type": "execute_result"
    }
   ],
   "source": [
    "test_df = pd.concat([X_valid_full, y_valid], axis=1)"
   ]
  },
  {
   "cell_type": "code",
   "execution_count": 21,
   "id": "ac3b6116",
   "metadata": {},
   "outputs": [],
   "source": [
    "test_df.to_csv(\"../data/test_case.csv\")"
   ]
  },
  {
   "cell_type": "code",
   "execution_count": 22,
   "id": "96b95f17",
   "metadata": {},
   "outputs": [],
   "source": [
    "train_df = pd.concat([X_train_full, y_train], axis=1)\n",
    "train_df.to_csv(\"../data/train_case.csv\")"
   ]
  },
  {
   "cell_type": "code",
   "execution_count": 23,
   "id": "e9c1463d",
   "metadata": {},
   "outputs": [],
   "source": [
    "# cols_with_missing = [col for col in X_train_full.columns if X_train_full[col].isnull().any()] \n",
    "# X_train_full.drop(cols_with_missing, axis=1, inplace=True)\n",
    "# X_valid_full.drop(cols_with_missing, axis=1, inplace=True)"
   ]
  },
  {
   "cell_type": "code",
   "execution_count": 24,
   "id": "d8455e64",
   "metadata": {},
   "outputs": [
    {
     "data": {
      "text/plain": [
       "(['Jakarta Division'], ['Street Address', 'Certificate'])"
      ]
     },
     "execution_count": 24,
     "metadata": {},
     "output_type": "execute_result"
    }
   ],
   "source": [
    "low_cardinality_cols = [cname for cname in X_train_full.columns if X_train_full[cname].nunique() < 10 and \n",
    "                        X_train_full[cname].dtype == \"object\"]\n",
    "high_cardinality_cols = [cname for cname in X_train_full.columns if X_train_full[cname].nunique() >= 10 and \n",
    "                        X_train_full[cname].dtype == \"object\"]\n",
    "low_cardinality_cols, high_cardinality_cols"
   ]
  },
  {
   "cell_type": "code",
   "execution_count": 25,
   "id": "eca2feab",
   "metadata": {},
   "outputs": [],
   "source": [
    "numerical_cols = [cname for cname in X_train_full.columns if X_train_full[cname].dtype in ['int64', 'float64']]"
   ]
  },
  {
   "cell_type": "code",
   "execution_count": 26,
   "id": "fdcdd3b6",
   "metadata": {},
   "outputs": [],
   "source": [
    "my_cols = low_cardinality_cols + high_cardinality_cols+ numerical_cols\n",
    "X_train = X_train_full[my_cols].copy()\n",
    "X_valid = X_valid_full[my_cols].copy()"
   ]
  },
  {
   "cell_type": "code",
   "execution_count": 27,
   "id": "6c132d74",
   "metadata": {},
   "outputs": [
    {
     "name": "stdout",
     "output_type": "stream",
     "text": [
      "Categorical variables:\n",
      "['Jakarta Division', 'Street Address', 'Certificate']\n"
     ]
    }
   ],
   "source": [
    "# Get list of categorical variables\n",
    "s = (X_train.dtypes == 'object')\n",
    "object_cols = list(s[s].index)\n",
    "\n",
    "print(\"Categorical variables:\")\n",
    "print(object_cols)"
   ]
  },
  {
   "cell_type": "code",
   "execution_count": 28,
   "id": "26356fc8",
   "metadata": {},
   "outputs": [],
   "source": [
    "# Function for comparing different approaches\n",
    "def score_dataset(X_train, X_valid, y_train, y_valid):\n",
    "    model = RandomForestRegressor(n_estimators=100, random_state=0)\n",
    "    model.fit(X_train, y_train)\n",
    "    preds = model.predict(X_valid)\n",
    "    mae = mean_absolute_error(y_valid, preds)\n",
    "#     r2 = r2_score(y_valid, preds)\n",
    "    #Get the number of samples and features in the validation set\n",
    "#     n_samples, n_features = X_train.shape\n",
    "#     #Calculate the degree of freedoms for residuals\n",
    "#     dof_residuals = n_samples - n_features - 1\n",
    "    #Calculate the adjusted r2 score\n",
    "#     adj_r2 = 1 - (1 - r2) * (dof_residuals / (n_samples - 1))\n",
    "    #calculate the root mean squared error\n",
    "#     rmse = np.sqrt(mean_squared_error(y_valid, preds))\n",
    "    mape = mean_absolute_percentage_error(y_valid, preds)\n",
    "    return mape, preds\n"
   ]
  },
  {
   "cell_type": "code",
   "execution_count": 30,
   "id": "3b205b8a",
   "metadata": {},
   "outputs": [
    {
     "name": "stdout",
     "output_type": "stream",
     "text": [
      "MAE, RMSE, Adjusted R2, MPAE from Approach 1 (Drop categorical variables):\n",
      "(0.38450278634418084, array([2.66636517e+09, 2.63380579e+09, 4.09342260e+09, ...,\n",
      "       4.63993269e+09, 4.02079801e+09, 1.55569924e+09]))\n"
     ]
    }
   ],
   "source": [
    "# Using approach 1: Drop Categorical Variables\n",
    "drop_X_train = X_train.select_dtypes(exclude=['object'])\n",
    "drop_X_valid = X_valid.select_dtypes(exclude=['object'])\n",
    "\n",
    "print(\"MAE, RMSE, Adjusted R2, MPAE from Approach 1 (Drop categorical variables):\")\n",
    "print(score_dataset(drop_X_train, drop_X_valid, y_train, y_valid))"
   ]
  },
  {
   "cell_type": "code",
   "execution_count": 34,
   "id": "4b307fc5",
   "metadata": {},
   "outputs": [
    {
     "name": "stdout",
     "output_type": "stream",
     "text": [
      "0.31537109730740914\n"
     ]
    }
   ],
   "source": [
    "from sklearn.preprocessing import OrdinalEncoder\n",
    "\n",
    "# Make copy to avoid changing original data \n",
    "label_X_train = X_train.copy()\n",
    "label_X_valid = X_valid.copy()\n",
    "\n",
    "# Apply ordinal encoder to each column with categorical data\n",
    "ordinal_encoder = OrdinalEncoder(handle_unknown='use_encoded_value', unknown_value=-1)\n",
    "label_X_train[object_cols] = ordinal_encoder.fit_transform(X_train[object_cols])\n",
    "label_X_valid[object_cols] = ordinal_encoder.transform(X_valid[object_cols])\n",
    "\n",
    "model = RandomForestRegressor(n_estimators=100, random_state=0)\n",
    "model.fit(label_X_train, y_train)\n",
    "preds = model.predict(label_X_valid)\n",
    "mape = mean_absolute_percentage_error(y_valid, preds)\n",
    "print(mape)"
   ]
  },
  {
   "cell_type": "code",
   "execution_count": 35,
   "id": "b7bc70ca",
   "metadata": {},
   "outputs": [],
   "source": [
    "import pickle\n",
    "filename = \"../data/random_forest.pickle\"\n",
    "\n",
    "# save model\n",
    "pickle.dump(model, open(filename, \"wb\"))\n"
   ]
  },
  {
   "cell_type": "code",
   "execution_count": 36,
   "id": "780d09e7",
   "metadata": {},
   "outputs": [],
   "source": [
    "# load model\n",
    "loaded_model = pickle.load(open(filename, \"rb\"))\n",
    "\n",
    "# you can use loaded model to compute predictions\n",
    "y_predicted = loaded_model.predict(label_X_valid)"
   ]
  }
 ],
 "metadata": {
  "kernelspec": {
   "display_name": "Python 3 (ipykernel)",
   "language": "python",
   "name": "python3"
  },
  "language_info": {
   "codemirror_mode": {
    "name": "ipython",
    "version": 3
   },
   "file_extension": ".py",
   "mimetype": "text/x-python",
   "name": "python",
   "nbconvert_exporter": "python",
   "pygments_lexer": "ipython3",
   "version": "3.9.13"
  }
 },
 "nbformat": 4,
 "nbformat_minor": 5
}
